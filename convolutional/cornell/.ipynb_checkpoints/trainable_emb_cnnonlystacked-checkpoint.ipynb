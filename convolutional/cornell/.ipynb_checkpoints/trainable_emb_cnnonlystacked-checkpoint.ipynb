{
 "cells": [
  {
   "cell_type": "code",
   "execution_count": 1,
   "metadata": {},
   "outputs": [
    {
     "name": "stdout",
     "output_type": "stream",
     "text": [
      "vocab exists\n",
      "vocab exists\n"
     ]
    }
   ],
   "source": [
    "from string import punctuation\n",
    "import os\n",
    "from os import listdir\n",
    "from collections import Counter\n",
    "from nltk.corpus import stopwords\n",
    "\n",
    "# load doc into memory\n",
    "def load_doc(filename):\n",
    "\t# open the file as read only\n",
    "\tfile = open(filename, 'r')\n",
    "\t# read all text\n",
    "\ttext = file.read()\n",
    "\t# close the file\n",
    "\tfile.close()\n",
    "\treturn text\n",
    "\n",
    "# turn a doc into clean tokens\n",
    "def clean_doc(doc):\n",
    "\t# split into tokens by white space\n",
    "\ttokens = doc.split()\n",
    "\t# remove punctuation from each token\n",
    "\ttable = str.maketrans('', '', punctuation)\n",
    "\ttokens = [w.translate(table) for w in tokens]\n",
    "\t# remove remaining tokens that are not alphabetic\n",
    "\ttokens = [word for word in tokens if word.isalpha()]\n",
    "\t# filter out stop words\n",
    "\tstop_words = set(stopwords.words('english'))\n",
    "\ttokens = [w for w in tokens if not w in stop_words]\n",
    "\t# filter out short tokens\n",
    "\ttokens = [word for word in tokens if len(word) > 1]\n",
    "\treturn tokens\n",
    "\n",
    "# load doc and add to vocab\n",
    "def add_doc_to_vocab(filename, vocab):\n",
    "\t# load doc\n",
    "\tdoc = load_doc(filename)\n",
    "\t# clean doc\n",
    "\ttokens = clean_doc(doc)\n",
    "\t# update counts\n",
    "\tvocab.update(tokens)\n",
    "\n",
    "# load all docs in a directory\n",
    "def process_docs_1(directory, vocab):\n",
    "\t# walk through all files in the folder\n",
    "\tfor filename in listdir(directory):\n",
    "\t\t# skip files that do not have the right extension\n",
    "\t\tif not filename.endswith(\".txt\"):\n",
    "\t\t\tcontinue\n",
    "\t\t# create the full path of the file to open\n",
    "\t\tpath = directory + '/' + filename\n",
    "\t\t# add doc to vocab\n",
    "\t\tadd_doc_to_vocab(path, vocab)\n",
    "# load all docs in a directory\n",
    "def process_docs_2(directory, vocab):\n",
    "\tlines = list()\n",
    "\t# walk through all files in the folder\n",
    "\tfor filename in listdir(directory):\n",
    "\t\t# skip files that do not have the right extension\n",
    "\t\tif not filename.endswith(\".txt\"):\n",
    "\t\t\tcontinue\n",
    "\t\t# create the full path of the file to open\n",
    "\t\tpath = directory + '/' + filename\n",
    "\t\t# load and clean the doc\n",
    "\t\tline = doc_to_line(path, vocab)\n",
    "\t\t# add to list\n",
    "\t\tlines.append(line)\n",
    "\treturn lines\n",
    "# load doc, clean and return line of tokens\n",
    "def doc_to_line(filename, vocab):\n",
    "\t# load the doc\n",
    "\tdoc = load_doc(filename)\n",
    "\t# clean doc\n",
    "\ttokens = clean_doc(doc)\n",
    "\t# filter by vocab\n",
    "\ttokens = [w for w in tokens if w in vocab]\n",
    "\treturn ' '.join(tokens)\n",
    "\n",
    "\n",
    "# save list to file\n",
    "def save_list(lines, filename):\n",
    "\tdata = '\\n'.join(lines)\n",
    "\tfile = open(filename, 'w')\n",
    "\tfile.write(data)\n",
    "\tfile.close()\n",
    "i=0    \n",
    "while i<2:\n",
    "    if  os.path.isfile('./vocab.txt') :\n",
    "        print ('vocab exists')\n",
    "        # load vocabulary\n",
    "        vocab_filename = 'vocab.txt'\n",
    "        vocab = load_doc(vocab_filename)\n",
    "        vocab = vocab.split()\n",
    "        vocab = set(vocab)\n",
    "        positive_docs = process_docs_2('dataset_cornell/train_pos', vocab)\n",
    "        negative_docs = process_docs_2('dataset_cornell/train_neg', vocab)\n",
    "        train_docs = negative_docs + positive_docs\n",
    "        i = i +1\n",
    "    else:\n",
    "        # define vocab\n",
    "        vocab = Counter()\n",
    "        # add all docs to vocab\n",
    "        process_docs_1('dataset_cornell/txt_sentoken/neg', vocab)\n",
    "        process_docs_1('dataset_cornell/txt_sentoken/pos', vocab)\n",
    "        # print the size of the vocab\n",
    "        print(len(vocab))\n",
    "        # print the top words in the vocab\n",
    "        print(vocab.most_common(50))\n",
    "        # keep tokens with > 5 occurrence\n",
    "        min_occurane = 5\n",
    "        tokens = [k for k,c in vocab.items() if c >= min_occurane]\n",
    "        print(len(tokens))\n",
    "        # save tokens to a vocabulary file\n",
    "        save_list(tokens, 'vocab.txt')\n",
    "        i=i+1\n"
   ]
  },
  {
   "cell_type": "code",
   "execution_count": 2,
   "metadata": {},
   "outputs": [
    {
     "name": "stderr",
     "output_type": "stream",
     "text": [
      "Using TensorFlow backend.\n"
     ]
    },
    {
     "name": "stdout",
     "output_type": "stream",
     "text": [
      "Device mapping:\n",
      "/job:localhost/replica:0/task:0/device:XLA_CPU:0 -> device: XLA_CPU device\n",
      "/job:localhost/replica:0/task:0/device:GPU:0 -> device: 0, name: GeForce RTX 2080, pci bus id: 0000:01:00.0, compute capability: 7.5\n",
      "/job:localhost/replica:0/task:0/device:XLA_GPU:0 -> device: XLA_GPU device\n",
      "\n",
      "1500\n"
     ]
    }
   ],
   "source": [
    "import keras\n",
    "from keras.datasets import imdb\n",
    "from keras.preprocessing.sequence import pad_sequences\n",
    "from keras.models import Sequential\n",
    "from keras.layers import Dense, Dropout, Embedding, SpatialDropout1D, Input\n",
    "from keras.layers import LSTM\n",
    "from keras.callbacks import ModelCheckpoint\n",
    "from keras.preprocessing.text import Tokenizer\n",
    "from keras.layers.pooling import MaxPooling1D, GlobalMaxPooling1D\n",
    "from keras.layers.convolutional import Conv1D\n",
    "from keras.utils.vis_utils import plot_model\n",
    "import os\n",
    "from sklearn.metrics import roc_auc_score \n",
    "import matplotlib.pyplot as plt\n",
    "import numpy as np\n",
    "from keras.models import Model\n",
    "%matplotlib inline\n",
    "\n",
    "#logo tou provlhmatos me to cudnn\n",
    "from keras.backend.tensorflow_backend import set_session\n",
    "import tensorflow as tf\n",
    "config = tf.ConfigProto()\n",
    "config.gpu_options.allow_growth = True  # dynamically grow the memory used on the GPU\n",
    "config.log_device_placement = True  # to log device placement (on which device the operation ran)\n",
    "sess = tf.Session(config=config)\n",
    "set_session(sess)  # set this TensorFlow session as the default session for Keras\n",
    "\n",
    "# training\n",
    "epochs = 30\n",
    "# Convolution\n",
    "kernel_size = 5\n",
    "filters = 128\n",
    "pool_size = 5\n",
    "# vector\n",
    "n_dim = 128 \n",
    "n_unique_words = 20000\n",
    "max_review_length = 1000\n",
    "pad_type = trunc_type = 'pre'\n",
    "# LSTM\n",
    "n_lstm = 256 \n",
    "drop_lstm = 0.2\n",
    "\n",
    "# create the tokenizer\n",
    "tokenizer = Tokenizer()\n",
    "tokenizer.fit_on_texts(train_docs)\n",
    "encoded_docs = tokenizer.texts_to_sequences(train_docs)\n",
    "print(len(encoded_docs))"
   ]
  },
  {
   "cell_type": "code",
   "execution_count": 3,
   "metadata": {},
   "outputs": [],
   "source": [
    "x_train = pad_sequences(encoded_docs, maxlen=max_review_length, padding=pad_type, truncating=trunc_type, value=0)"
   ]
  },
  {
   "cell_type": "code",
   "execution_count": 4,
   "metadata": {},
   "outputs": [
    {
     "name": "stdout",
     "output_type": "stream",
     "text": [
      "1500\n"
     ]
    }
   ],
   "source": [
    "print(len(x_train))"
   ]
  },
  {
   "cell_type": "code",
   "execution_count": 5,
   "metadata": {},
   "outputs": [
    {
     "name": "stdout",
     "output_type": "stream",
     "text": [
      "1500\n"
     ]
    }
   ],
   "source": [
    "y_train = np.array([0 for _ in range(750)] + [1 for _ in range(750)])\n",
    "print(len(y_train))"
   ]
  },
  {
   "cell_type": "code",
   "execution_count": 6,
   "metadata": {},
   "outputs": [
    {
     "name": "stdout",
     "output_type": "stream",
     "text": [
      "500\n",
      "500\n"
     ]
    }
   ],
   "source": [
    "# load all test reviews\n",
    "positive_docs = process_docs_2('dataset_cornell/test_pos', vocab)\n",
    "negative_docs = process_docs_2('dataset_cornell/test_neg', vocab)\n",
    "test_docs = negative_docs + positive_docs\n",
    "encoded_docs = tokenizer.texts_to_sequences(test_docs)\n",
    "x_valid = pad_sequences(encoded_docs, maxlen=max_review_length, padding=pad_type, truncating=trunc_type, value=0)\n",
    "y_valid = np.array([0 for _ in range(250)] + [1 for _ in range(250)])\n",
    "print(len(x_valid))\n",
    "print(len(y_valid))"
   ]
  },
  {
   "cell_type": "code",
   "execution_count": 7,
   "metadata": {},
   "outputs": [
    {
     "name": "stdout",
     "output_type": "stream",
     "text": [
      "WARNING:tensorflow:From /home/chris/anaconda3/envs/tf/lib/python3.7/site-packages/keras/backend/tensorflow_backend.py:74: The name tf.get_default_graph is deprecated. Please use tf.compat.v1.get_default_graph instead.\n",
      "\n",
      "WARNING:tensorflow:From /home/chris/anaconda3/envs/tf/lib/python3.7/site-packages/keras/backend/tensorflow_backend.py:517: The name tf.placeholder is deprecated. Please use tf.compat.v1.placeholder instead.\n",
      "\n",
      "WARNING:tensorflow:From /home/chris/anaconda3/envs/tf/lib/python3.7/site-packages/keras/backend/tensorflow_backend.py:4138: The name tf.random_uniform is deprecated. Please use tf.random.uniform instead.\n",
      "\n",
      "WARNING:tensorflow:From /home/chris/anaconda3/envs/tf/lib/python3.7/site-packages/keras/backend/tensorflow_backend.py:3976: The name tf.nn.max_pool is deprecated. Please use tf.nn.max_pool2d instead.\n",
      "\n"
     ]
    }
   ],
   "source": [
    "#e = Embedding(vocab_size, 300, weights=[embedding_matrix], trainable=False)\n",
    "e = Embedding(n_unique_words, n_dim, input_length=max_review_length)\n",
    "sequence_input = Input(shape=(max_review_length,), dtype='int32')\n",
    "embedded_sequences = e(sequence_input)\n",
    "x = Conv1D(128, 5, activation='relu')(embedded_sequences)\n",
    "x = MaxPooling1D(5)(x)\n",
    "x = Conv1D(128, 5, activation='relu')(x)\n",
    "x = MaxPooling1D(5)(x)\n",
    "x = Conv1D(128, 5, activation='relu')(x)\n",
    "x = GlobalMaxPooling1D()(x)\n",
    "x = Dense(128, activation='relu')(x)\n",
    "o = Dense(1, activation='sigmoid')(x)\n",
    "model = Model(sequence_input, o)"
   ]
  },
  {
   "cell_type": "code",
   "execution_count": 8,
   "metadata": {},
   "outputs": [
    {
     "name": "stdout",
     "output_type": "stream",
     "text": [
      "_________________________________________________________________\n",
      "Layer (type)                 Output Shape              Param #   \n",
      "=================================================================\n",
      "input_1 (InputLayer)         (None, 1000)              0         \n",
      "_________________________________________________________________\n",
      "embedding_1 (Embedding)      (None, 1000, 128)         2560000   \n",
      "_________________________________________________________________\n",
      "conv1d_1 (Conv1D)            (None, 996, 128)          82048     \n",
      "_________________________________________________________________\n",
      "max_pooling1d_1 (MaxPooling1 (None, 199, 128)          0         \n",
      "_________________________________________________________________\n",
      "conv1d_2 (Conv1D)            (None, 195, 128)          82048     \n",
      "_________________________________________________________________\n",
      "max_pooling1d_2 (MaxPooling1 (None, 39, 128)           0         \n",
      "_________________________________________________________________\n",
      "conv1d_3 (Conv1D)            (None, 35, 128)           82048     \n",
      "_________________________________________________________________\n",
      "global_max_pooling1d_1 (Glob (None, 128)               0         \n",
      "_________________________________________________________________\n",
      "dense_1 (Dense)              (None, 128)               16512     \n",
      "_________________________________________________________________\n",
      "dense_2 (Dense)              (None, 1)                 129       \n",
      "=================================================================\n",
      "Total params: 2,822,785\n",
      "Trainable params: 2,822,785\n",
      "Non-trainable params: 0\n",
      "_________________________________________________________________\n"
     ]
    }
   ],
   "source": [
    "model.summary()"
   ]
  },
  {
   "cell_type": "code",
   "execution_count": 9,
   "metadata": {},
   "outputs": [
    {
     "name": "stdout",
     "output_type": "stream",
     "text": [
      "WARNING:tensorflow:From /home/chris/anaconda3/envs/tf/lib/python3.7/site-packages/keras/optimizers.py:790: The name tf.train.Optimizer is deprecated. Please use tf.compat.v1.train.Optimizer instead.\n",
      "\n",
      "WARNING:tensorflow:From /home/chris/anaconda3/envs/tf/lib/python3.7/site-packages/keras/backend/tensorflow_backend.py:3376: The name tf.log is deprecated. Please use tf.math.log instead.\n",
      "\n",
      "WARNING:tensorflow:From /home/chris/anaconda3/envs/tf/lib/python3.7/site-packages/tensorflow_core/python/ops/nn_impl.py:183: where (from tensorflow.python.ops.array_ops) is deprecated and will be removed in a future version.\n",
      "Instructions for updating:\n",
      "Use tf.where in 2.0, which has the same broadcast rule as np.where\n"
     ]
    }
   ],
   "source": [
    "model.compile(loss='binary_crossentropy', optimizer='adam', metrics=['accuracy'])"
   ]
  },
  {
   "cell_type": "code",
   "execution_count": 10,
   "metadata": {},
   "outputs": [],
   "source": [
    "# checkpoint\n",
    "output_dir = \"model_weights/trainable_emb_cnnonlystacked\"\n",
    "if not os.path.exists(output_dir):\n",
    "    os.makedirs(output_dir)\n",
    "filepath=output_dir+\"/weights-improvement-{epoch:02d}-{val_acc:.2f}.hdf5\"\n",
    "checkpoint = ModelCheckpoint(filepath, monitor='val_acc', verbose=1, save_best_only=True, mode='max')\n",
    "callbacks_list = [checkpoint]"
   ]
  },
  {
   "cell_type": "code",
   "execution_count": 11,
   "metadata": {
    "scrolled": false
   },
   "outputs": [
    {
     "name": "stdout",
     "output_type": "stream",
     "text": [
      "WARNING:tensorflow:From /home/chris/anaconda3/envs/tf/lib/python3.7/site-packages/keras/backend/tensorflow_backend.py:986: The name tf.assign_add is deprecated. Please use tf.compat.v1.assign_add instead.\n",
      "\n",
      "WARNING:tensorflow:From /home/chris/anaconda3/envs/tf/lib/python3.7/site-packages/keras/backend/tensorflow_backend.py:973: The name tf.assign is deprecated. Please use tf.compat.v1.assign instead.\n",
      "\n",
      "Train on 1500 samples, validate on 500 samples\n",
      "Epoch 1/30\n",
      "WARNING:tensorflow:From /home/chris/anaconda3/envs/tf/lib/python3.7/site-packages/keras/backend/tensorflow_backend.py:174: The name tf.get_default_session is deprecated. Please use tf.compat.v1.get_default_session instead.\n",
      "\n",
      "WARNING:tensorflow:From /home/chris/anaconda3/envs/tf/lib/python3.7/site-packages/keras/backend/tensorflow_backend.py:190: The name tf.global_variables is deprecated. Please use tf.compat.v1.global_variables instead.\n",
      "\n",
      "WARNING:tensorflow:From /home/chris/anaconda3/envs/tf/lib/python3.7/site-packages/keras/backend/tensorflow_backend.py:199: The name tf.is_variable_initialized is deprecated. Please use tf.compat.v1.is_variable_initialized instead.\n",
      "\n",
      "WARNING:tensorflow:From /home/chris/anaconda3/envs/tf/lib/python3.7/site-packages/keras/backend/tensorflow_backend.py:206: The name tf.variables_initializer is deprecated. Please use tf.compat.v1.variables_initializer instead.\n",
      "\n",
      "1500/1500 [==============================] - 3s 2ms/step - loss: 0.6950 - acc: 0.4660 - val_loss: 0.6930 - val_acc: 0.5000\n",
      "\n",
      "Epoch 00001: val_acc improved from -inf to 0.50000, saving model to model_weights/trainable_emb_cnnonlystacked/weights-improvement-01-0.50.hdf5\n",
      "Epoch 2/30\n",
      "1500/1500 [==============================] - 1s 362us/step - loss: 0.6831 - acc: 0.5520 - val_loss: 0.6834 - val_acc: 0.5020\n",
      "\n",
      "Epoch 00002: val_acc improved from 0.50000 to 0.50200, saving model to model_weights/trainable_emb_cnnonlystacked/weights-improvement-02-0.50.hdf5\n",
      "Epoch 3/30\n",
      "1500/1500 [==============================] - 0s 324us/step - loss: 0.4237 - acc: 0.8313 - val_loss: 0.4737 - val_acc: 0.7800\n",
      "\n",
      "Epoch 00003: val_acc improved from 0.50200 to 0.78000, saving model to model_weights/trainable_emb_cnnonlystacked/weights-improvement-03-0.78.hdf5\n",
      "Epoch 4/30\n",
      "1500/1500 [==============================] - 0s 315us/step - loss: 0.0336 - acc: 0.9967 - val_loss: 0.6320 - val_acc: 0.7740\n",
      "\n",
      "Epoch 00004: val_acc did not improve from 0.78000\n",
      "Epoch 5/30\n",
      "1500/1500 [==============================] - 0s 317us/step - loss: 0.0014 - acc: 1.0000 - val_loss: 0.6129 - val_acc: 0.7940\n",
      "\n",
      "Epoch 00005: val_acc improved from 0.78000 to 0.79400, saving model to model_weights/trainable_emb_cnnonlystacked/weights-improvement-05-0.79.hdf5\n",
      "Epoch 6/30\n",
      "1500/1500 [==============================] - 0s 294us/step - loss: 4.0637e-04 - acc: 1.0000 - val_loss: 0.6537 - val_acc: 0.7960\n",
      "\n",
      "Epoch 00006: val_acc improved from 0.79400 to 0.79600, saving model to model_weights/trainable_emb_cnnonlystacked/weights-improvement-06-0.80.hdf5\n",
      "Epoch 7/30\n",
      "1500/1500 [==============================] - 0s 277us/step - loss: 1.8745e-04 - acc: 1.0000 - val_loss: 0.6932 - val_acc: 0.8000\n",
      "\n",
      "Epoch 00007: val_acc improved from 0.79600 to 0.80000, saving model to model_weights/trainable_emb_cnnonlystacked/weights-improvement-07-0.80.hdf5\n",
      "Epoch 8/30\n",
      "1500/1500 [==============================] - 0s 273us/step - loss: 9.7766e-05 - acc: 1.0000 - val_loss: 0.7534 - val_acc: 0.7900\n",
      "\n",
      "Epoch 00008: val_acc did not improve from 0.80000\n",
      "Epoch 9/30\n",
      "1500/1500 [==============================] - 0s 288us/step - loss: 5.4863e-05 - acc: 1.0000 - val_loss: 0.7982 - val_acc: 0.7980\n",
      "\n",
      "Epoch 00009: val_acc did not improve from 0.80000\n",
      "Epoch 10/30\n",
      "1500/1500 [==============================] - 1s 356us/step - loss: 3.6424e-05 - acc: 1.0000 - val_loss: 0.8296 - val_acc: 0.7900\n",
      "\n",
      "Epoch 00010: val_acc did not improve from 0.80000\n",
      "Epoch 11/30\n",
      "1500/1500 [==============================] - 1s 361us/step - loss: 2.8350e-05 - acc: 1.0000 - val_loss: 0.8590 - val_acc: 0.7900\n",
      "\n",
      "Epoch 00011: val_acc did not improve from 0.80000\n",
      "Epoch 12/30\n",
      "1500/1500 [==============================] - 1s 336us/step - loss: 2.0427e-05 - acc: 1.0000 - val_loss: 0.8808 - val_acc: 0.7940\n",
      "\n",
      "Epoch 00012: val_acc did not improve from 0.80000\n",
      "Epoch 13/30\n",
      "1500/1500 [==============================] - 1s 350us/step - loss: 1.6194e-05 - acc: 1.0000 - val_loss: 0.9026 - val_acc: 0.7920\n",
      "\n",
      "Epoch 00013: val_acc did not improve from 0.80000\n",
      "Epoch 14/30\n",
      "1500/1500 [==============================] - 1s 360us/step - loss: 1.3231e-05 - acc: 1.0000 - val_loss: 0.9199 - val_acc: 0.7920\n",
      "\n",
      "Epoch 00014: val_acc did not improve from 0.80000\n",
      "Epoch 15/30\n",
      "1500/1500 [==============================] - 1s 349us/step - loss: 1.0966e-05 - acc: 1.0000 - val_loss: 0.9357 - val_acc: 0.7920\n",
      "\n",
      "Epoch 00015: val_acc did not improve from 0.80000\n",
      "Epoch 16/30\n",
      "1500/1500 [==============================] - 1s 352us/step - loss: 9.3149e-06 - acc: 1.0000 - val_loss: 0.9490 - val_acc: 0.7920\n",
      "\n",
      "Epoch 00016: val_acc did not improve from 0.80000\n",
      "Epoch 17/30\n",
      "1500/1500 [==============================] - 1s 339us/step - loss: 7.9812e-06 - acc: 1.0000 - val_loss: 0.9634 - val_acc: 0.7920\n",
      "\n",
      "Epoch 00017: val_acc did not improve from 0.80000\n",
      "Epoch 18/30\n",
      "1500/1500 [==============================] - 1s 342us/step - loss: 6.8842e-06 - acc: 1.0000 - val_loss: 0.9762 - val_acc: 0.7920\n",
      "\n",
      "Epoch 00018: val_acc did not improve from 0.80000\n",
      "Epoch 19/30\n",
      "1500/1500 [==============================] - 1s 366us/step - loss: 6.0412e-06 - acc: 1.0000 - val_loss: 0.9891 - val_acc: 0.7920\n",
      "\n",
      "Epoch 00019: val_acc did not improve from 0.80000\n",
      "Epoch 20/30\n",
      "1500/1500 [==============================] - 0s 287us/step - loss: 5.3395e-06 - acc: 1.0000 - val_loss: 0.9999 - val_acc: 0.7920\n",
      "\n",
      "Epoch 00020: val_acc did not improve from 0.80000\n",
      "Epoch 21/30\n",
      "1500/1500 [==============================] - 0s 288us/step - loss: 4.7472e-06 - acc: 1.0000 - val_loss: 1.0097 - val_acc: 0.7920\n",
      "\n",
      "Epoch 00021: val_acc did not improve from 0.80000\n",
      "Epoch 22/30\n",
      "1500/1500 [==============================] - 1s 335us/step - loss: 4.2526e-06 - acc: 1.0000 - val_loss: 1.0180 - val_acc: 0.7920\n",
      "\n",
      "Epoch 00022: val_acc did not improve from 0.80000\n",
      "Epoch 23/30\n",
      "1500/1500 [==============================] - 1s 338us/step - loss: 3.7868e-06 - acc: 1.0000 - val_loss: 1.0275 - val_acc: 0.7920\n",
      "\n",
      "Epoch 00023: val_acc did not improve from 0.80000\n",
      "Epoch 24/30\n",
      "1500/1500 [==============================] - 1s 338us/step - loss: 3.4442e-06 - acc: 1.0000 - val_loss: 1.0351 - val_acc: 0.7920\n",
      "\n",
      "Epoch 00024: val_acc did not improve from 0.80000\n",
      "Epoch 25/30\n",
      "1500/1500 [==============================] - 1s 343us/step - loss: 3.1183e-06 - acc: 1.0000 - val_loss: 1.0470 - val_acc: 0.7920\n",
      "\n",
      "Epoch 00025: val_acc did not improve from 0.80000\n",
      "Epoch 26/30\n",
      "1500/1500 [==============================] - 1s 350us/step - loss: 2.8266e-06 - acc: 1.0000 - val_loss: 1.0539 - val_acc: 0.7900\n",
      "\n",
      "Epoch 00026: val_acc did not improve from 0.80000\n",
      "Epoch 27/30\n",
      "1500/1500 [==============================] - 1s 364us/step - loss: 2.6099e-06 - acc: 1.0000 - val_loss: 1.0617 - val_acc: 0.7920\n",
      "\n",
      "Epoch 00027: val_acc did not improve from 0.80000\n",
      "Epoch 28/30\n",
      "1500/1500 [==============================] - 0s 323us/step - loss: 2.3792e-06 - acc: 1.0000 - val_loss: 1.0698 - val_acc: 0.7920\n",
      "\n",
      "Epoch 00028: val_acc did not improve from 0.80000\n",
      "Epoch 29/30\n",
      "1500/1500 [==============================] - 0s 319us/step - loss: 2.1867e-06 - acc: 1.0000 - val_loss: 1.0766 - val_acc: 0.7920\n",
      "\n",
      "Epoch 00029: val_acc did not improve from 0.80000\n",
      "Epoch 30/30\n",
      "1500/1500 [==============================] - 0s 332us/step - loss: 2.0204e-06 - acc: 1.0000 - val_loss: 1.0834 - val_acc: 0.7920\n",
      "\n",
      "Epoch 00030: val_acc did not improve from 0.80000\n"
     ]
    }
   ],
   "source": [
    "history = model.fit(x_train, y_train, epochs=epochs, verbose=1, callbacks=callbacks_list, validation_data=(x_valid, y_valid))"
   ]
  },
  {
   "cell_type": "code",
   "execution_count": 12,
   "metadata": {},
   "outputs": [
    {
     "data": {
      "image/png": "[encoded data removed]",
      "text/plain": [
       "<Figure size 432x288 with 1 Axes>"
      ]
     },
     "metadata": {
      "needs_background": "light"
     },
     "output_type": "display_data"
    },
    {
     "data": {
      "image/png": "[encoded data removed]",
      "text/plain": [
       "<Figure size 432x288 with 1 Axes>"
      ]
     },
     "metadata": {
      "needs_background": "light"
     },
     "output_type": "display_data"
    }
   ],
   "source": [
    "# Plot training & validation accuracy values\n",
    "plt.plot(history.history['acc'])\n",
    "plt.plot(history.history['val_acc'])\n",
    "plt.title('Model accuracy')\n",
    "plt.ylabel('Accuracy')\n",
    "plt.xlabel('Epoch')\n",
    "plt.legend(['Train', 'Test'], loc='upper left')\n",
    "plt.show()\n",
    "# Plot training & validation loss values\n",
    "plt.plot(history.history['loss'])\n",
    "plt.plot(history.history['val_loss'])\n",
    "plt.title('Model loss')\n",
    "plt.ylabel('Loss')\n",
    "plt.xlabel('Epoch')\n",
    "plt.legend(['Train', 'Test'], loc='upper left')\n",
    "plt.show()"
   ]
  },
  {
   "cell_type": "code",
   "execution_count": 14,
   "metadata": {},
   "outputs": [],
   "source": [
    "model.load_weights(output_dir+\"/weights-improvement-07-0.80.hdf5\")"
   ]
  },
  {
   "cell_type": "code",
   "execution_count": 15,
   "metadata": {},
   "outputs": [],
   "source": [
    "y = model.predict(x_valid)"
   ]
  },
  {
   "cell_type": "code",
   "execution_count": 16,
   "metadata": {},
   "outputs": [
    {
     "data": {
      "text/plain": [
       "(array([203.,  24.,  13.,   8.,  10.,   7.,  11.,  18.,  18., 188.]),\n",
       " array([2.29477882e-06, 1.00002035e-01, 2.00001776e-01, 3.00001502e-01,\n",
       "        4.00001258e-01, 5.00001013e-01, 6.00000739e-01, 7.00000465e-01,\n",
       "        8.00000191e-01, 8.99999976e-01, 9.99999702e-01], dtype=float32),\n",
       " <a list of 10 Patch objects>)"
      ]
     },
     "execution_count": 16,
     "metadata": {},
     "output_type": "execute_result"
    },
    {
     "data": {
      "image/png": "[encoded data removed]",
      "text/plain": [
       "<Figure size 432x288 with 1 Axes>"
      ]
     },
     "metadata": {
      "needs_background": "light"
     },
     "output_type": "display_data"
    }
   ],
   "source": [
    "plt.hist(y)"
   ]
  },
  {
   "cell_type": "code",
   "execution_count": 17,
   "metadata": {},
   "outputs": [
    {
     "name": "stdout",
     "output_type": "stream",
     "text": [
      "Accuracy: 80.00%\n"
     ]
    }
   ],
   "source": [
    "score = model.evaluate(x_valid, y_valid, verbose=0)\n",
    "print(\"Accuracy: %.2f%%\" % (score[1]*100))"
   ]
  },
  {
   "cell_type": "code",
   "execution_count": 18,
   "metadata": {},
   "outputs": [
    {
     "data": {
      "text/plain": [
       "'88.04'"
      ]
     },
     "execution_count": 18,
     "metadata": {},
     "output_type": "execute_result"
    }
   ],
   "source": [
    "#area under curve score\n",
    "\"{:0.2f}\".format(roc_auc_score(y_valid, y)*100)"
   ]
  },
  {
   "cell_type": "code",
   "execution_count": null,
   "metadata": {},
   "outputs": [],
   "source": []
  }
 ],
 "metadata": {
  "kernelspec": {
   "display_name": "Python 3",
   "language": "python",
   "name": "python3"
  },
  "language_info": {
   "codemirror_mode": {
    "name": "ipython",
    "version": 3
   },
   "file_extension": ".py",
   "mimetype": "text/x-python",
   "name": "python",
   "nbconvert_exporter": "python",
   "pygments_lexer": "ipython3",
   "version": "3.7.6"
  }
 },
 "nbformat": 4,
 "nbformat_minor": 2
}
